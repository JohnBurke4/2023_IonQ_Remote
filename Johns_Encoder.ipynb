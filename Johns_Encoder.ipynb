{
 "cells": [
  {
   "cell_type": "code",
   "execution_count": 4,
   "metadata": {},
   "outputs": [],
   "source": [
    "import qiskit\n",
    "from qiskit import quantum_info\n",
    "from qiskit.execute_function import execute\n",
    "from qiskit import BasicAer\n",
    "import numpy as np\n",
    "import pickle\n",
    "import json\n",
    "import os\n",
    "from collections import Counter\n",
    "from sklearn.metrics import mean_squared_error\n",
    "from typing import Dict, List\n",
    "\n",
    "#define utility functions\n",
    "\n",
    "#this simulate a circuit (without measurement) and output results in the format of histogram.\n",
    "def simulate(circuit: qiskit.QuantumCircuit) -> dict:\n",
    "    \"\"\"Simulate the circuit, give the state vector as the result.\"\"\"\n",
    "    backend = BasicAer.get_backend('statevector_simulator')\n",
    "    job = execute(circuit, backend)\n",
    "    result = job.result()\n",
    "    state_vector = result.get_statevector()\n",
    "    \n",
    "    histogram = dict()\n",
    "    for i in range(len(state_vector)):\n",
    "        population = abs(state_vector[i]) ** 2\n",
    "        if population > 1e-9:\n",
    "            histogram[i] = population\n",
    "    \n",
    "    return histogram\n",
    "\n",
    "\n",
    "def histogram_to_category(histogram):\n",
    "    assert abs(sum(histogram.values())-1)<1e-8\n",
    "    positive=0\n",
    "    for key in histogram.keys():\n",
    "        digits = bin(int(key))[2:].zfill(20)\n",
    "        if digits[-1]=='0':\n",
    "            positive+=histogram[key]\n",
    "        \n",
    "    return positive\n",
    "\n",
    "def count_gates(circuit: qiskit.QuantumCircuit) -> Dict[int, int]:\n",
    "    \"\"\"Returns the number of gate operations with each number of qubits.\"\"\"\n",
    "    return Counter([len(gate[1]) for gate in circuit.data])\n",
    "\n",
    "def image_mse(image1,image2):\n",
    "    # Using sklearns mean squared error:\n",
    "    # https://scikit-learn.org/stable/modules/generated/sklearn.metrics.mean_squared_error.html\n",
    "    return mean_squared_error(image1, image2)\n",
    "\n",
    "\n",
    "\n",
    "\n",
    "def encode_cirq(image):\n",
    "    circuit=cirq.Circuit()\n",
    "    if image[0][0]==0:\n",
    "        circuit.append(cirq.rx(np.pi).on(cirq.LineQubit(0)))\n",
    "    return circuit\n",
    "\n",
    "def encode_qiskit(image, size):\n",
    "    n = int(np.log2(size*size)) + 1\n",
    "    q = qiskit.QuantumRegister(n)\n",
    "    circuit = qiskit.QuantumCircuit(q)\n",
    "    initState(circuit, range(0,n), image, size, n)\n",
    "    \n",
    "    return circuit.decompose(5)\n",
    "\n",
    "\n",
    "def decode(histogram, size):\n",
    "    image = np.array([[0.00] * size] * size) \n",
    "    for (key, value) in histogram.items():\n",
    "        image[int(key / size)][key % size] =  value\n",
    "        \n",
    "    return image\n",
    "\n",
    "def initState(qc, qubits, state, size, n):\n",
    "    \n",
    "    vec = np.array(state).flatten()\n",
    "    leftOver = (2**n) - size*size\n",
    "    vec = np.pad(vec, (0, leftOver), 'constant')\n",
    "    print(vec.size)\n",
    "    norm = np.absolute(vec).sum()\n",
    "    normState = []\n",
    "    for i in range(0, vec.size):\n",
    "        normState.append(float((1 if vec[i] >= 0 else -1) * np.sqrt(np.absolute(vec[i]))) / np.sqrt(norm))\n",
    "    qc.initialize(normState, qubits)\n",
    "    return \"norm\"\n"
   ]
  },
  {
   "cell_type": "code",
   "execution_count": 2,
   "metadata": {},
   "outputs": [
    {
     "name": "stdout",
     "output_type": "stream",
     "text": [
      "[0.         0.         0.         0.         0.         0.\n",
      " 0.         0.         0.00059977 0.00138408 0.00207612 0.00307574\n",
      " 0.00202999 0.00092272 0.00098424 0.00127643 0.0028143  0.00299885\n",
      " 0.00149173 0.00044598 0.         0.         0.         0.\n",
      " 0.         0.         0.         0.        ]\n"
     ]
    },
    {
     "data": {
      "image/png": "[encoded data removed]",
      "text/plain": [
       "<Figure size 432x288 with 1 Axes>"
      ]
     },
     "metadata": {
      "needs_background": "light"
     },
     "output_type": "display_data"
    }
   ],
   "source": [
    "#load data\n",
    "files=os.listdir(\"mock_data\")\n",
    "dataset=list()\n",
    "for file in files:\n",
    "    with open('mock_data/'+file, \"r\") as infile:\n",
    "        loaded = json.load(infile)\n",
    "        dataset.append(loaded)\n",
    "import matplotlib.pyplot as plt \n",
    "images=np.load('data/images.npy')\n",
    "# data = images[0][0:16, 0:16]\n",
    "data = images[0]\n",
    "plt.imshow(data)\n",
    "print(data[0])\n",
    "dataset = [{\"image\": data}]"
   ]
  },
  {
   "cell_type": "code",
   "execution_count": 5,
   "metadata": {},
   "outputs": [
    {
     "name": "stdout",
     "output_type": "stream",
     "text": [
      "1024\n",
      "Created\n",
      "784\n",
      "0.45639698215109326\n"
     ]
    },
    {
     "data": {
      "image/png": "[encoded data removed]",
      "text/plain": [
       "<Figure size 432x288 with 1 Axes>"
      ]
     },
     "metadata": {
      "needs_background": "light"
     },
     "output_type": "display_data"
    }
   ],
   "source": [
    "#grade part1\n",
    "\n",
    "n=len(dataset)\n",
    "mse=0\n",
    "gatecount=0\n",
    "\n",
    "for data in dataset:\n",
    "    #encode image into circuit\n",
    "    circuit=encode_qiskit(data['image'], 28)\n",
    "    print(\"Created\")\n",
    "    #simulate circuit\n",
    "    histogram=simulate(circuit)\n",
    "    gatecount += 28*28 # Just a guess\n",
    "    \n",
    "    #reconstruct \n",
    "    image_re=decode(histogram, 28)\n",
    "    plt.imshow(image_re)\n",
    "    \n",
    "    #calculate mse\n",
    "    mse+=image_mse(np.asarray(data['image']),np.asarray(image_re))\n",
    "    \n",
    "#fidelity of reconstruction\n",
    "f=1-mse\n",
    "gatecount=gatecount/n\n",
    "\n",
    "#score for part1\n",
    "print(f*(0.999**gatecount))"
   ]
  },
  {
   "cell_type": "code",
   "execution_count": 21,
   "metadata": {},
   "outputs": [
    {
     "name": "stdout",
     "output_type": "stream",
     "text": [
      "1.0\n"
     ]
    }
   ],
   "source": [
    "#grade part 2\n",
    "\n",
    "#load classifier circuit\n",
    "classifier=qiskit.QuantumCircuit.from_qasm_file('part2.qasm')\n",
    "    \n",
    "score=0\n",
    "\n",
    "for data in dataset:\n",
    "    #encode image into circuit\n",
    "    circuit=encode_qiskit(data['image'])\n",
    "    \n",
    "    nq1 = circuit.width()\n",
    "    nq2 = classifier.width()\n",
    "    nq = max(nq1, nq2)\n",
    "    qc = qiskit.QuantumCircuit(nq)\n",
    "    qc.append(circuit.to_instruction(), list(range(nq1)))\n",
    "    qc.append(classifier.to_instruction(), list(range(nq2)))\n",
    "\n",
    "    gatecount+=count_gates(qc)[2]\n",
    "    \n",
    "    #simulate circuit\n",
    "    histogram=simulate(qc)\n",
    "    \n",
    "    #convert histogram to category\n",
    "    cat=histogram_to_category(histogram)\n",
    "    \n",
    "    \n",
    "    if cat==data['category']:\n",
    "        score+=1\n",
    "#score\n",
    "score=score/n\n",
    "gatecount=gatecount/n\n",
    "\n",
    "print(score*(0.999**gatecount))"
   ]
  },
  {
   "cell_type": "code",
   "execution_count": null,
   "metadata": {},
   "outputs": [],
   "source": []
  }
 ],
 "metadata": {
  "kernelspec": {
   "display_name": "Python 3 (ipykernel)",
   "language": "python",
   "name": "python3"
  },
  "language_info": {
   "codemirror_mode": {
    "name": "ipython",
    "version": 3
   },
   "file_extension": ".py",
   "mimetype": "text/x-python",
   "name": "python",
   "nbconvert_exporter": "python",
   "pygments_lexer": "ipython3",
   "version": "3.9.12"
  },
  "vscode": {
   "interpreter": {
    "hash": "397704579725e15f5c7cb49fe5f0341eb7531c82d19f2c29d197e8b64ab5776b"
   }
  }
 },
 "nbformat": 4,
 "nbformat_minor": 2
}
